{
 "cells": [
  {
   "cell_type": "markdown",
   "metadata": {},
   "source": [
    "# Day 2 - Advent of code \n",
    "The winner of the whole tournament is the player with the highest score. Your total score is the sum of your scores for each round. The score for a single round is the score for the shape you selected (1 for Rock, 2 for Paper, and 3 for Scissors) plus the score for the outcome of the round (0 if you lost, 3 if the round was a draw, and 6 if you won).\n",
    "\n",
    "Since you can't be sure if the Elf is trying to help you or trick you, you should calculate the score you would get if you were to follow the strategy guide.\n",
    "\n",
    "For example, suppose you were given the following strategy guide:\n",
    "```\n",
    "A Y\n",
    "B X\n",
    "C Z\n",
    "```\n",
    "This strategy guide predicts and recommends the following:\n",
    "\n",
    "In the first round, your opponent will choose Rock (A), and you should choose Paper (Y). \n",
    "This ends in a win for you with a score of `8` (2 because you chose Paper + 6 because you won).\n",
    "\n",
    "In the second round, your opponent will choose Paper (B), and you should choose Rock (X). This ends in a loss for you with a score of `1` (1 + 0).\n",
    "\n",
    "The third round is a draw with both players choosing Scissors, giving you a score of `3 + 3 = 6`.\n",
    "In this example, if you were to follow the strategy guide, you would get a total score of 15 `(8 + 1 + 6)`."
   ]
  },
  {
   "cell_type": "code",
   "execution_count": 30,
   "metadata": {},
   "outputs": [],
   "source": [
    "# opponent\n",
    "# A: rock\n",
    "# B: paper\n",
    "# C: Scissors\n",
    "\n",
    "# me\n",
    "# X: rock\n",
    "# Y: paper\n",
    "# Z: scissors\n",
    "\n",
    "dict_score = {'X': 1, 'Y': 2, 'Z': 3}\n",
    "dict_win = {'A X': 3, 'B X': 0, 'C X': 6,\n",
    "            'A Y': 6, 'B Y': 3, 'C Y': 0,\n",
    "            'A Z': 0, 'B Z': 6, 'C Z': 3}"
   ]
  },
  {
   "cell_type": "markdown",
   "metadata": {},
   "source": [
    "### Part 1"
   ]
  },
  {
   "cell_type": "code",
   "execution_count": 31,
   "metadata": {},
   "outputs": [],
   "source": [
    "def output_scores(input:str, dict_win:dict, dict_score:dict):\n",
    "    \"\"\"Output Scores from Paper-Rock-Scissors.\"\"\"\n",
    "    with open(input, \"r\") as file:\n",
    "        data = file.read()\n",
    "    list_res = data.split('\\n')\n",
    "\n",
    "    win_games = sum([dict_win[k] for k in list_res])\n",
    "\n",
    "    list_scores = [element[-1] for element in list_res] \n",
    "    win_scores = sum([dict_score[k] for k in list_scores])\n",
    "\n",
    "    return win_scores + win_games\n"
   ]
  },
  {
   "cell_type": "code",
   "execution_count": 32,
   "metadata": {},
   "outputs": [
    {
     "data": {
      "text/plain": [
       "15422"
      ]
     },
     "execution_count": 32,
     "metadata": {},
     "output_type": "execute_result"
    }
   ],
   "source": [
    "output_scores('input_day2.txt', dict_win, dict_score)"
   ]
  },
  {
   "cell_type": "markdown",
   "metadata": {},
   "source": [
    "## Part Two \n",
    "\n",
    "The Elf finishes helping with the tent and sneaks back over to you.\n",
    "\n",
    "\"Anyway, the second column says how the round needs to end: X means you need to lose, Y means you need to end the round in a draw, and Z means you need to win. Good luck!\"\n",
    "\n",
    "The total score is still calculated in the same way, but now you need to figure out what shape to choose so the round ends as indicated. The example above now goes like this:\n",
    "\n",
    "In the first round, your opponent will choose Rock (A), and you need the round to end in a draw (`Y`), so you also choose Rock. This gives you a score of `1 + 3 = 4`.\n",
    "\n",
    "In the second round, your opponent will choose Paper (B), and you choose Rock so you lose (X) with a score of `1 + 0 = 1`.\n",
    "\n",
    "In the third round, you will defeat your opponent's Scissors with Rock for a score of `1 + 6 = 7`.\n",
    "\n",
    "Now that you're correctly decrypting the ultra top secret strategy guide, you would get a total score of `12`."
   ]
  },
  {
   "cell_type": "code",
   "execution_count": 33,
   "metadata": {},
   "outputs": [],
   "source": [
    "# You need to change your output based on the new rules\n",
    "# As example, for 'AX', ROCK <> ROCK, you need to lose thus you end up with scissors.\n",
    "# Based on the previous rule you have {'X': 1, 'Y': 2, 'Z': 3}\n",
    "# 'AX': 'Z' 'AY' : 'X' , 'AZ': 'Y'\n",
    "\n",
    "dict_new_rules = {'A X': 3, 'A Y': 1, 'A Z': 2,\n",
    "                  'B X': 1, 'B Y': 2, 'B Z': 3,\n",
    "                  'C X': 2, 'C Y': 3, 'C Z': 1}\n",
    "\n",
    "dict_score = {\"X\": 0, \"Y\": 3, \"Z\": 6}"
   ]
  },
  {
   "cell_type": "code",
   "execution_count": 34,
   "metadata": {},
   "outputs": [
    {
     "data": {
      "text/plain": [
       "15442"
      ]
     },
     "execution_count": 34,
     "metadata": {},
     "output_type": "execute_result"
    }
   ],
   "source": [
    "output_scores('input_day2.txt', dict_new_rules, dict_score)"
   ]
  }
 ],
 "metadata": {
  "kernelspec": {
   "display_name": "Python 3.10.8 64-bit",
   "language": "python",
   "name": "python3"
  },
  "language_info": {
   "codemirror_mode": {
    "name": "ipython",
    "version": 3
   },
   "file_extension": ".py",
   "mimetype": "text/x-python",
   "name": "python",
   "nbconvert_exporter": "python",
   "pygments_lexer": "ipython3",
   "version": "3.10.8"
  },
  "orig_nbformat": 4,
  "vscode": {
   "interpreter": {
    "hash": "b0fa6594d8f4cbf19f97940f81e996739fb7646882a419484c72d19e05852a7e"
   }
  }
 },
 "nbformat": 4,
 "nbformat_minor": 2
}
